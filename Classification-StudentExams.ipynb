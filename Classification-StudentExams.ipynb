{
 "cells": [
  {
   "attachments": {},
   "cell_type": "markdown",
   "metadata": {},
   "source": [
    "# Statisical Model for Predicting Above Average Academic Performance\n",
    "\n",
    "**Description:**\n",
    "\n",
    "The purpose of this project is to build a statisitcal model based on a logistic classification algorithm as a multivariate approach for predicting above average academic performance by students across three different metrics: math, reading, and writing.\n",
    "\n",
    "Results of the binary classification algorithm will be used to determine which major factors contribute/ is associated with above average exam performance based on estimations of the logistic regression parameters of each factor with respect to: gender, race/ethnicity, parental level of education, lunch, and whether students took a test preparation course.\n",
    "\n",
    "Dummy variables were created for each class in a category in the algorithm; classes of the highest samples were omitted as reference groups based on results of EDA.\n",
    "\n",
    "Significance of each factor in predicting above average academic performance of students will be evaluated at a confidence level of 95% with a 0.05 significance threshold for each of the three logistic model in measuring above average performance in math, reading, and writing."
   ]
  },
  {
   "cell_type": "markdown",
   "metadata": {},
   "source": [
    "## Import libaries and load dataset"
   ]
  },
  {
   "cell_type": "code",
   "execution_count": 1,
   "metadata": {},
   "outputs": [],
   "source": [
    "# import libraries\n",
    "import pandas as pd\n",
    "import numpy as np\n",
    "import matplotlib.pyplot as plt \n",
    "import seaborn as sns\n",
    "import statsmodels.api as sm\n",
    "\n",
    "\n",
    "# Embedding static image of plot in notebook\n",
    "%matplotlib inline "
   ]
  },
  {
   "cell_type": "code",
   "execution_count": 2,
   "metadata": {},
   "outputs": [
    {
     "data": {
      "text/html": [
       "<div>\n",
       "<style scoped>\n",
       "    .dataframe tbody tr th:only-of-type {\n",
       "        vertical-align: middle;\n",
       "    }\n",
       "\n",
       "    .dataframe tbody tr th {\n",
       "        vertical-align: top;\n",
       "    }\n",
       "\n",
       "    .dataframe thead th {\n",
       "        text-align: right;\n",
       "    }\n",
       "</style>\n",
       "<table border=\"1\" class=\"dataframe\">\n",
       "  <thead>\n",
       "    <tr style=\"text-align: right;\">\n",
       "      <th></th>\n",
       "      <th>gender</th>\n",
       "      <th>race/ethnicity</th>\n",
       "      <th>parental level of education</th>\n",
       "      <th>lunch</th>\n",
       "      <th>test preparation course</th>\n",
       "      <th>math score</th>\n",
       "      <th>reading score</th>\n",
       "      <th>writing score</th>\n",
       "    </tr>\n",
       "  </thead>\n",
       "  <tbody>\n",
       "    <tr>\n",
       "      <th>0</th>\n",
       "      <td>male</td>\n",
       "      <td>group A</td>\n",
       "      <td>high school</td>\n",
       "      <td>standard</td>\n",
       "      <td>completed</td>\n",
       "      <td>67</td>\n",
       "      <td>67</td>\n",
       "      <td>63</td>\n",
       "    </tr>\n",
       "    <tr>\n",
       "      <th>1</th>\n",
       "      <td>female</td>\n",
       "      <td>group D</td>\n",
       "      <td>some high school</td>\n",
       "      <td>free/reduced</td>\n",
       "      <td>none</td>\n",
       "      <td>40</td>\n",
       "      <td>59</td>\n",
       "      <td>55</td>\n",
       "    </tr>\n",
       "    <tr>\n",
       "      <th>2</th>\n",
       "      <td>male</td>\n",
       "      <td>group E</td>\n",
       "      <td>some college</td>\n",
       "      <td>free/reduced</td>\n",
       "      <td>none</td>\n",
       "      <td>59</td>\n",
       "      <td>60</td>\n",
       "      <td>50</td>\n",
       "    </tr>\n",
       "    <tr>\n",
       "      <th>3</th>\n",
       "      <td>male</td>\n",
       "      <td>group B</td>\n",
       "      <td>high school</td>\n",
       "      <td>standard</td>\n",
       "      <td>none</td>\n",
       "      <td>77</td>\n",
       "      <td>78</td>\n",
       "      <td>68</td>\n",
       "    </tr>\n",
       "    <tr>\n",
       "      <th>4</th>\n",
       "      <td>male</td>\n",
       "      <td>group E</td>\n",
       "      <td>associate's degree</td>\n",
       "      <td>standard</td>\n",
       "      <td>completed</td>\n",
       "      <td>78</td>\n",
       "      <td>73</td>\n",
       "      <td>68</td>\n",
       "    </tr>\n",
       "  </tbody>\n",
       "</table>\n",
       "</div>"
      ],
      "text/plain": [
       "   gender race/ethnicity parental level of education         lunch  \\\n",
       "0    male        group A                 high school      standard   \n",
       "1  female        group D            some high school  free/reduced   \n",
       "2    male        group E                some college  free/reduced   \n",
       "3    male        group B                 high school      standard   \n",
       "4    male        group E          associate's degree      standard   \n",
       "\n",
       "  test preparation course  math score  reading score  writing score  \n",
       "0               completed          67             67             63  \n",
       "1                    none          40             59             55  \n",
       "2                    none          59             60             50  \n",
       "3                    none          77             78             68  \n",
       "4               completed          78             73             68  "
      ]
     },
     "execution_count": 2,
     "metadata": {},
     "output_type": "execute_result"
    }
   ],
   "source": [
    "# load student performance exam dataset\n",
    "student_performance = pd.read_csv(\"exams.csv\")\n",
    "student_performance.head()"
   ]
  },
  {
   "cell_type": "markdown",
   "metadata": {},
   "source": [
    "## Part 1: EDA - Exploratory Data Analysis"
   ]
  },
  {
   "cell_type": "markdown",
   "metadata": {},
   "source": [
    "### 1. Renaming the columns"
   ]
  },
  {
   "cell_type": "code",
   "execution_count": 3,
   "metadata": {},
   "outputs": [
    {
     "data": {
      "text/plain": [
       "Index(['gender', 'race/ethnicity', 'parental_level_of_education', 'lunch',\n",
       "       'test_preparation_course', 'math_score', 'reading_score',\n",
       "       'writing_score'],\n",
       "      dtype='object')"
      ]
     },
     "execution_count": 3,
     "metadata": {},
     "output_type": "execute_result"
    }
   ],
   "source": [
    "# Renaming replacing spaces in column name with \"_\"\n",
    "student_performance.columns = [col.replace(\" \", \"_\") for col in student_performance.columns]\n",
    "student_performance.columns"
   ]
  },
  {
   "cell_type": "markdown",
   "metadata": {},
   "source": [
    "### 2. Information about the data"
   ]
  },
  {
   "cell_type": "code",
   "execution_count": 4,
   "metadata": {},
   "outputs": [
    {
     "data": {
      "text/plain": [
       "(1000, 8)"
      ]
     },
     "execution_count": 4,
     "metadata": {},
     "output_type": "execute_result"
    }
   ],
   "source": [
    "# getting the size/dimensionality of the dataset\n",
    "student_performance.shape"
   ]
  },
  {
   "cell_type": "code",
   "execution_count": 5,
   "metadata": {},
   "outputs": [
    {
     "name": "stdout",
     "output_type": "stream",
     "text": [
      "<class 'pandas.core.frame.DataFrame'>\n",
      "RangeIndex: 1000 entries, 0 to 999\n",
      "Data columns (total 8 columns):\n",
      " #   Column                       Non-Null Count  Dtype \n",
      "---  ------                       --------------  ----- \n",
      " 0   gender                       1000 non-null   object\n",
      " 1   race/ethnicity               1000 non-null   object\n",
      " 2   parental_level_of_education  1000 non-null   object\n",
      " 3   lunch                        1000 non-null   object\n",
      " 4   test_preparation_course      1000 non-null   object\n",
      " 5   math_score                   1000 non-null   int64 \n",
      " 6   reading_score                1000 non-null   int64 \n",
      " 7   writing_score                1000 non-null   int64 \n",
      "dtypes: int64(3), object(5)\n",
      "memory usage: 62.6+ KB\n"
     ]
    }
   ],
   "source": [
    "# retrieving information about the dataset\n",
    "student_performance.info()"
   ]
  },
  {
   "cell_type": "code",
   "execution_count": 6,
   "metadata": {},
   "outputs": [
    {
     "data": {
      "text/plain": [
       "gender                         False\n",
       "race/ethnicity                 False\n",
       "parental_level_of_education    False\n",
       "lunch                          False\n",
       "test_preparation_course        False\n",
       "math_score                     False\n",
       "reading_score                  False\n",
       "writing_score                  False\n",
       "dtype: bool"
      ]
     },
     "execution_count": 6,
     "metadata": {},
     "output_type": "execute_result"
    }
   ],
   "source": [
    "# checking for any missing values\n",
    "student_performance.isnull().any()"
   ]
  },
  {
   "cell_type": "markdown",
   "metadata": {},
   "source": [
    "### 3. Descriptive Statistics & Visualizing the Data"
   ]
  },
  {
   "cell_type": "markdown",
   "metadata": {},
   "source": [
    "#### **3.1. Descriptive Statistics of Student Exam Scores**"
   ]
  },
  {
   "cell_type": "code",
   "execution_count": 7,
   "metadata": {},
   "outputs": [
    {
     "data": {
      "text/html": [
       "<div>\n",
       "<style scoped>\n",
       "    .dataframe tbody tr th:only-of-type {\n",
       "        vertical-align: middle;\n",
       "    }\n",
       "\n",
       "    .dataframe tbody tr th {\n",
       "        vertical-align: top;\n",
       "    }\n",
       "\n",
       "    .dataframe thead th {\n",
       "        text-align: right;\n",
       "    }\n",
       "</style>\n",
       "<table border=\"1\" class=\"dataframe\">\n",
       "  <thead>\n",
       "    <tr style=\"text-align: right;\">\n",
       "      <th></th>\n",
       "      <th>math_score</th>\n",
       "      <th>reading_score</th>\n",
       "      <th>writing_score</th>\n",
       "    </tr>\n",
       "  </thead>\n",
       "  <tbody>\n",
       "    <tr>\n",
       "      <th>count</th>\n",
       "      <td>1000.0</td>\n",
       "      <td>1000.0</td>\n",
       "      <td>1000.0</td>\n",
       "    </tr>\n",
       "    <tr>\n",
       "      <th>mean</th>\n",
       "      <td>66.4</td>\n",
       "      <td>69.0</td>\n",
       "      <td>67.7</td>\n",
       "    </tr>\n",
       "    <tr>\n",
       "      <th>std</th>\n",
       "      <td>15.4</td>\n",
       "      <td>14.7</td>\n",
       "      <td>15.6</td>\n",
       "    </tr>\n",
       "    <tr>\n",
       "      <th>min</th>\n",
       "      <td>13.0</td>\n",
       "      <td>27.0</td>\n",
       "      <td>23.0</td>\n",
       "    </tr>\n",
       "    <tr>\n",
       "      <th>25%</th>\n",
       "      <td>56.0</td>\n",
       "      <td>60.0</td>\n",
       "      <td>58.0</td>\n",
       "    </tr>\n",
       "    <tr>\n",
       "      <th>50%</th>\n",
       "      <td>66.5</td>\n",
       "      <td>70.0</td>\n",
       "      <td>68.0</td>\n",
       "    </tr>\n",
       "    <tr>\n",
       "      <th>75%</th>\n",
       "      <td>77.0</td>\n",
       "      <td>79.0</td>\n",
       "      <td>79.0</td>\n",
       "    </tr>\n",
       "    <tr>\n",
       "      <th>max</th>\n",
       "      <td>100.0</td>\n",
       "      <td>100.0</td>\n",
       "      <td>100.0</td>\n",
       "    </tr>\n",
       "  </tbody>\n",
       "</table>\n",
       "</div>"
      ],
      "text/plain": [
       "       math_score  reading_score  writing_score\n",
       "count      1000.0         1000.0         1000.0\n",
       "mean         66.4           69.0           67.7\n",
       "std          15.4           14.7           15.6\n",
       "min          13.0           27.0           23.0\n",
       "25%          56.0           60.0           58.0\n",
       "50%          66.5           70.0           68.0\n",
       "75%          77.0           79.0           79.0\n",
       "max         100.0          100.0          100.0"
      ]
     },
     "execution_count": 7,
     "metadata": {},
     "output_type": "execute_result"
    }
   ],
   "source": [
    "# Descriptive statistic of math, reading, and writing scores of students\n",
    "summary = student_performance.describe().round(1)\n",
    "summary"
   ]
  },
  {
   "cell_type": "code",
   "execution_count": 8,
   "metadata": {},
   "outputs": [
    {
     "data": {
      "text/html": [
       "<div>\n",
       "<style scoped>\n",
       "    .dataframe tbody tr th:only-of-type {\n",
       "        vertical-align: middle;\n",
       "    }\n",
       "\n",
       "    .dataframe tbody tr th {\n",
       "        vertical-align: top;\n",
       "    }\n",
       "\n",
       "    .dataframe thead th {\n",
       "        text-align: right;\n",
       "    }\n",
       "</style>\n",
       "<table border=\"1\" class=\"dataframe\">\n",
       "  <thead>\n",
       "    <tr style=\"text-align: right;\">\n",
       "      <th></th>\n",
       "      <th>math_score</th>\n",
       "      <th>reading_score</th>\n",
       "      <th>writing_score</th>\n",
       "    </tr>\n",
       "    <tr>\n",
       "      <th>gender</th>\n",
       "      <th></th>\n",
       "      <th></th>\n",
       "      <th></th>\n",
       "    </tr>\n",
       "  </thead>\n",
       "  <tbody>\n",
       "    <tr>\n",
       "      <th>female</th>\n",
       "      <td>63.2</td>\n",
       "      <td>71.9</td>\n",
       "      <td>71.7</td>\n",
       "    </tr>\n",
       "    <tr>\n",
       "      <th>male</th>\n",
       "      <td>69.4</td>\n",
       "      <td>66.3</td>\n",
       "      <td>64.0</td>\n",
       "    </tr>\n",
       "  </tbody>\n",
       "</table>\n",
       "</div>"
      ],
      "text/plain": [
       "        math_score  reading_score  writing_score\n",
       "gender                                          \n",
       "female        63.2           71.9           71.7\n",
       "male          69.4           66.3           64.0"
      ]
     },
     "execution_count": 8,
     "metadata": {},
     "output_type": "execute_result"
    }
   ],
   "source": [
    "# Average exam scores by gender\n",
    "student_performance.groupby(\"gender\").agg(np.mean).round(1)"
   ]
  },
  {
   "cell_type": "code",
   "execution_count": 9,
   "metadata": {},
   "outputs": [
    {
     "data": {
      "text/html": [
       "<div>\n",
       "<style scoped>\n",
       "    .dataframe tbody tr th:only-of-type {\n",
       "        vertical-align: middle;\n",
       "    }\n",
       "\n",
       "    .dataframe tbody tr th {\n",
       "        vertical-align: top;\n",
       "    }\n",
       "\n",
       "    .dataframe thead th {\n",
       "        text-align: right;\n",
       "    }\n",
       "</style>\n",
       "<table border=\"1\" class=\"dataframe\">\n",
       "  <thead>\n",
       "    <tr style=\"text-align: right;\">\n",
       "      <th></th>\n",
       "      <th>math_score</th>\n",
       "      <th>reading_score</th>\n",
       "      <th>writing_score</th>\n",
       "    </tr>\n",
       "    <tr>\n",
       "      <th>race/ethnicity</th>\n",
       "      <th></th>\n",
       "      <th></th>\n",
       "      <th></th>\n",
       "    </tr>\n",
       "  </thead>\n",
       "  <tbody>\n",
       "    <tr>\n",
       "      <th>group A</th>\n",
       "      <td>65.2</td>\n",
       "      <td>68.6</td>\n",
       "      <td>67.0</td>\n",
       "    </tr>\n",
       "    <tr>\n",
       "      <th>group B</th>\n",
       "      <td>63.2</td>\n",
       "      <td>67.1</td>\n",
       "      <td>65.7</td>\n",
       "    </tr>\n",
       "    <tr>\n",
       "      <th>group C</th>\n",
       "      <td>63.1</td>\n",
       "      <td>66.4</td>\n",
       "      <td>64.5</td>\n",
       "    </tr>\n",
       "    <tr>\n",
       "      <th>group D</th>\n",
       "      <td>69.3</td>\n",
       "      <td>72.1</td>\n",
       "      <td>72.3</td>\n",
       "    </tr>\n",
       "    <tr>\n",
       "      <th>group E</th>\n",
       "      <td>74.5</td>\n",
       "      <td>72.5</td>\n",
       "      <td>70.2</td>\n",
       "    </tr>\n",
       "  </tbody>\n",
       "</table>\n",
       "</div>"
      ],
      "text/plain": [
       "                math_score  reading_score  writing_score\n",
       "race/ethnicity                                          \n",
       "group A               65.2           68.6           67.0\n",
       "group B               63.2           67.1           65.7\n",
       "group C               63.1           66.4           64.5\n",
       "group D               69.3           72.1           72.3\n",
       "group E               74.5           72.5           70.2"
      ]
     },
     "execution_count": 9,
     "metadata": {},
     "output_type": "execute_result"
    }
   ],
   "source": [
    "# Average exam scores by race/ethnicity\n",
    "student_performance.groupby(\"race/ethnicity\").agg(np.mean).round(1)"
   ]
  },
  {
   "cell_type": "code",
   "execution_count": 10,
   "metadata": {},
   "outputs": [
    {
     "data": {
      "text/html": [
       "<div>\n",
       "<style scoped>\n",
       "    .dataframe tbody tr th:only-of-type {\n",
       "        vertical-align: middle;\n",
       "    }\n",
       "\n",
       "    .dataframe tbody tr th {\n",
       "        vertical-align: top;\n",
       "    }\n",
       "\n",
       "    .dataframe thead th {\n",
       "        text-align: right;\n",
       "    }\n",
       "</style>\n",
       "<table border=\"1\" class=\"dataframe\">\n",
       "  <thead>\n",
       "    <tr style=\"text-align: right;\">\n",
       "      <th></th>\n",
       "      <th>math_score</th>\n",
       "      <th>reading_score</th>\n",
       "      <th>writing_score</th>\n",
       "    </tr>\n",
       "    <tr>\n",
       "      <th>parental_level_of_education</th>\n",
       "      <th></th>\n",
       "      <th></th>\n",
       "      <th></th>\n",
       "    </tr>\n",
       "  </thead>\n",
       "  <tbody>\n",
       "    <tr>\n",
       "      <th>associate's degree</th>\n",
       "      <td>69.5</td>\n",
       "      <td>71.0</td>\n",
       "      <td>70.1</td>\n",
       "    </tr>\n",
       "    <tr>\n",
       "      <th>bachelor's degree</th>\n",
       "      <td>71.5</td>\n",
       "      <td>74.0</td>\n",
       "      <td>74.4</td>\n",
       "    </tr>\n",
       "    <tr>\n",
       "      <th>high school</th>\n",
       "      <td>65.2</td>\n",
       "      <td>67.4</td>\n",
       "      <td>64.8</td>\n",
       "    </tr>\n",
       "    <tr>\n",
       "      <th>master's degree</th>\n",
       "      <td>71.6</td>\n",
       "      <td>75.4</td>\n",
       "      <td>75.9</td>\n",
       "    </tr>\n",
       "    <tr>\n",
       "      <th>some college</th>\n",
       "      <td>65.3</td>\n",
       "      <td>68.0</td>\n",
       "      <td>66.7</td>\n",
       "    </tr>\n",
       "    <tr>\n",
       "      <th>some high school</th>\n",
       "      <td>60.7</td>\n",
       "      <td>64.4</td>\n",
       "      <td>62.5</td>\n",
       "    </tr>\n",
       "  </tbody>\n",
       "</table>\n",
       "</div>"
      ],
      "text/plain": [
       "                             math_score  reading_score  writing_score\n",
       "parental_level_of_education                                          \n",
       "associate's degree                 69.5           71.0           70.1\n",
       "bachelor's degree                  71.5           74.0           74.4\n",
       "high school                        65.2           67.4           64.8\n",
       "master's degree                    71.6           75.4           75.9\n",
       "some college                       65.3           68.0           66.7\n",
       "some high school                   60.7           64.4           62.5"
      ]
     },
     "execution_count": 10,
     "metadata": {},
     "output_type": "execute_result"
    }
   ],
   "source": [
    "# Average exam scores by parental level of education\n",
    "student_performance.groupby(\"parental_level_of_education\").agg(np.mean).round(1)"
   ]
  },
  {
   "cell_type": "code",
   "execution_count": 11,
   "metadata": {},
   "outputs": [
    {
     "data": {
      "text/html": [
       "<div>\n",
       "<style scoped>\n",
       "    .dataframe tbody tr th:only-of-type {\n",
       "        vertical-align: middle;\n",
       "    }\n",
       "\n",
       "    .dataframe tbody tr th {\n",
       "        vertical-align: top;\n",
       "    }\n",
       "\n",
       "    .dataframe thead th {\n",
       "        text-align: right;\n",
       "    }\n",
       "</style>\n",
       "<table border=\"1\" class=\"dataframe\">\n",
       "  <thead>\n",
       "    <tr style=\"text-align: right;\">\n",
       "      <th></th>\n",
       "      <th>math_score</th>\n",
       "      <th>reading_score</th>\n",
       "      <th>writing_score</th>\n",
       "    </tr>\n",
       "    <tr>\n",
       "      <th>lunch</th>\n",
       "      <th></th>\n",
       "      <th></th>\n",
       "      <th></th>\n",
       "    </tr>\n",
       "  </thead>\n",
       "  <tbody>\n",
       "    <tr>\n",
       "      <th>free/reduced</th>\n",
       "      <td>58.5</td>\n",
       "      <td>63.2</td>\n",
       "      <td>60.9</td>\n",
       "    </tr>\n",
       "    <tr>\n",
       "      <th>standard</th>\n",
       "      <td>70.6</td>\n",
       "      <td>72.1</td>\n",
       "      <td>71.4</td>\n",
       "    </tr>\n",
       "  </tbody>\n",
       "</table>\n",
       "</div>"
      ],
      "text/plain": [
       "              math_score  reading_score  writing_score\n",
       "lunch                                                 \n",
       "free/reduced        58.5           63.2           60.9\n",
       "standard            70.6           72.1           71.4"
      ]
     },
     "execution_count": 11,
     "metadata": {},
     "output_type": "execute_result"
    }
   ],
   "source": [
    "# Average exam scores by lunch\n",
    "student_performance.groupby(\"lunch\").agg(np.mean).round(1)"
   ]
  },
  {
   "cell_type": "code",
   "execution_count": 12,
   "metadata": {},
   "outputs": [
    {
     "data": {
      "text/html": [
       "<div>\n",
       "<style scoped>\n",
       "    .dataframe tbody tr th:only-of-type {\n",
       "        vertical-align: middle;\n",
       "    }\n",
       "\n",
       "    .dataframe tbody tr th {\n",
       "        vertical-align: top;\n",
       "    }\n",
       "\n",
       "    .dataframe thead th {\n",
       "        text-align: right;\n",
       "    }\n",
       "</style>\n",
       "<table border=\"1\" class=\"dataframe\">\n",
       "  <thead>\n",
       "    <tr style=\"text-align: right;\">\n",
       "      <th></th>\n",
       "      <th>math_score</th>\n",
       "      <th>reading_score</th>\n",
       "      <th>writing_score</th>\n",
       "    </tr>\n",
       "    <tr>\n",
       "      <th>test_preparation_course</th>\n",
       "      <th></th>\n",
       "      <th></th>\n",
       "      <th></th>\n",
       "    </tr>\n",
       "  </thead>\n",
       "  <tbody>\n",
       "    <tr>\n",
       "      <th>completed</th>\n",
       "      <td>69.7</td>\n",
       "      <td>74.1</td>\n",
       "      <td>74.7</td>\n",
       "    </tr>\n",
       "    <tr>\n",
       "      <th>none</th>\n",
       "      <td>64.7</td>\n",
       "      <td>66.4</td>\n",
       "      <td>64.2</td>\n",
       "    </tr>\n",
       "  </tbody>\n",
       "</table>\n",
       "</div>"
      ],
      "text/plain": [
       "                         math_score  reading_score  writing_score\n",
       "test_preparation_course                                          \n",
       "completed                      69.7           74.1           74.7\n",
       "none                           64.7           66.4           64.2"
      ]
     },
     "execution_count": 12,
     "metadata": {},
     "output_type": "execute_result"
    }
   ],
   "source": [
    "# Average exam scores by whether studen has taken a test preparation score\n",
    "student_performance.groupby(\"test_preparation_course\").agg(np.mean).round(1)"
   ]
  },
  {
   "cell_type": "markdown",
   "metadata": {},
   "source": [
    "#### **3.2. Visualizing Categorical Data**"
   ]
  },
  {
   "cell_type": "code",
   "execution_count": 13,
   "metadata": {},
   "outputs": [
    {
     "name": "stdout",
     "output_type": "stream",
     "text": [
      "['gender', 'race/ethnicity', 'parental_level_of_education', 'lunch', 'test_preparation_course']\n"
     ]
    }
   ],
   "source": [
    "# getting list of categorical variables\n",
    "categorical_var = list(student_performance.columns)\n",
    "categorical_var = categorical_var[:-3]\n",
    "print(categorical_var)"
   ]
  },
  {
   "cell_type": "code",
   "execution_count": 14,
   "metadata": {},
   "outputs": [
    {
     "data": {
      "image/png": "[encoded data removed]",
      "text/plain": [
       "<Figure size 432x288 with 1 Axes>"
      ]
     },
     "metadata": {
      "needs_background": "light"
     },
     "output_type": "display_data"
    },
    {
     "data": {
      "image/png": "[encoded data removed]",
      "text/plain": [
       "<Figure size 432x288 with 1 Axes>"
      ]
     },
     "metadata": {
      "needs_background": "light"
     },
     "output_type": "display_data"
    },
    {
     "data": {
      "image/png": "[encoded data removed]",
      "text/plain": [
       "<Figure size 432x288 with 1 Axes>"
      ]
     },
     "metadata": {
      "needs_background": "light"
     },
     "output_type": "display_data"
    },
    {
     "data": {
      "image/png": "[encoded data removed]",
      "text/plain": [
       "<Figure size 432x288 with 1 Axes>"
      ]
     },
     "metadata": {
      "needs_background": "light"
     },
     "output_type": "display_data"
    },
    {
     "data": {
      "image/png": "[encoded data removed]",
      "text/plain": [
       "<Figure size 432x288 with 1 Axes>"
      ]
     },
     "metadata": {
      "needs_background": "light"
     },
     "output_type": "display_data"
    }
   ],
   "source": [
    "# Creating a function for plotting a bar graph\n",
    "def bar_graph(cat):\n",
    "    feature = student_performance[cat]\n",
    "\n",
    "    yvals = feature.value_counts()\n",
    "    xvals = feature.value_counts().index\n",
    "\n",
    "    plt.ylabel(\"frequency\")\n",
    "    plt.title(cat)\n",
    "\n",
    "    return plt.bar(xvals, yvals)\n",
    "\n",
    "\n",
    "# displying a bar chart for each categorical variable in the dataset\n",
    "for category in categorical_var:\n",
    "    # create a new figure\n",
    "    fig = plt.figure() \n",
    "    # call to bar_graph function to plot bar graph to figure\n",
    "    bar_graph(category)\n",
    "    # retrieving x-axis object\n",
    "    x = plt.gca().xaxis\n",
    "    # iterating through x-axis label to rotate tick labels to prevent overlap\n",
    "    for item in x.get_ticklabels():\n",
    "\t    item.set_rotation(45)\n"
   ]
  },
  {
   "cell_type": "markdown",
   "metadata": {},
   "source": [
    "#### **3.3. Visualizing Quantitative Data**"
   ]
  },
  {
   "cell_type": "markdown",
   "metadata": {},
   "source": [
    "##### Overall Distribution of Exam Scores"
   ]
  },
  {
   "cell_type": "code",
   "execution_count": 15,
   "metadata": {},
   "outputs": [
    {
     "data": {
      "text/plain": [
       "<AxesSubplot:>"
      ]
     },
     "execution_count": 15,
     "metadata": {},
     "output_type": "execute_result"
    },
    {
     "data": {
      "image/png": "[encoded data removed]",
      "text/plain": [
       "<Figure size 432x288 with 1 Axes>"
      ]
     },
     "metadata": {
      "needs_background": "light"
     },
     "output_type": "display_data"
    }
   ],
   "source": [
    "# visualizing the overall distribution of each performance metric\n",
    "student_performance.plot.box()"
   ]
  },
  {
   "cell_type": "markdown",
   "metadata": {},
   "source": [
    "##### Correlation Matrix of Student Performance"
   ]
  },
  {
   "cell_type": "code",
   "execution_count": 16,
   "metadata": {},
   "outputs": [
    {
     "data": {
      "text/plain": [
       "Text(0.5, 1.0, 'Correlation Heatmap of Exam Performances')"
      ]
     },
     "execution_count": 16,
     "metadata": {},
     "output_type": "execute_result"
    },
    {
     "data": {
      "image/png": "[encoded data removed]",
      "text/plain": [
       "<Figure size 432x288 with 2 Axes>"
      ]
     },
     "metadata": {
      "needs_background": "light"
     },
     "output_type": "display_data"
    }
   ],
   "source": [
    "# Displaying the correlation matrix between different performance metrics\n",
    "sns.heatmap(student_performance.corr(), annot=True, cmap = \"Blues\").set_title(\"Correlation Heatmap of Exam Performances\")"
   ]
  },
  {
   "cell_type": "markdown",
   "metadata": {},
   "source": [
    "##### Distribution of Student Performance"
   ]
  },
  {
   "cell_type": "code",
   "execution_count": 17,
   "metadata": {},
   "outputs": [
    {
     "data": {
      "image/png": "[encoded data removed]",
      "text/plain": [
       "<Figure size 720x432 with 3 Axes>"
      ]
     },
     "metadata": {
      "needs_background": "light"
     },
     "output_type": "display_data"
    },
    {
     "data": {
      "image/png": "[encoded data removed]",
      "text/plain": [
       "<Figure size 720x432 with 3 Axes>"
      ]
     },
     "metadata": {
      "needs_background": "light"
     },
     "output_type": "display_data"
    },
    {
     "data": {
      "image/png": "[encoded data removed]",
      "text/plain": [
       "<Figure size 720x432 with 3 Axes>"
      ]
     },
     "metadata": {
      "needs_background": "light"
     },
     "output_type": "display_data"
    },
    {
     "data": {
      "image/png": "[encoded data removed]",
      "text/plain": [
       "<Figure size 720x432 with 3 Axes>"
      ]
     },
     "metadata": {
      "needs_background": "light"
     },
     "output_type": "display_data"
    },
    {
     "data": {
      "image/png": "[encoded data removed]",
      "text/plain": [
       "<Figure size 720x432 with 3 Axes>"
      ]
     },
     "metadata": {
      "needs_background": "light"
     },
     "output_type": "display_data"
    }
   ],
   "source": [
    "# Visualizing the distribution of each performance metric by category\n",
    "for var in categorical_var:\n",
    "    f, axes = plt.subplots(nrows = 1, ncols = 3, sharey=\"row\", sharex = \"row\", figsize=(10, 6))\n",
    "    plt.tight_layout(w_pad=1)\n",
    "    plt.suptitle(\"Distribution of Exam Scores by {}\".format(var))\n",
    "    plt.xlabel(var)\n",
    "    f.subplots_adjust(top=0.88)\n",
    "    plot_index = 0\n",
    "\n",
    "    # Creating a box_plot function\n",
    "    def box_plot(var, score, plot_index):\n",
    "        df = student_performance\n",
    "        plot = sns.boxplot(data=df, x=var, y=score, ax=axes[plot_index])\n",
    "        plot.set(xlabel=None)\n",
    "        return plot\n",
    "\n",
    "    for score in student_performance.columns[-3:]:\n",
    "        box_plot(var, score, plot_index) # call to function \n",
    "        for ax in f.axes: # iterating through each axes of the figure\n",
    "            plt.sca(ax) # set iterated plot as the active axes\n",
    "            plt.xticks(rotation=45) # rotating xlabels object of the axes  \n",
    "        plot_index += 1"
   ]
  },
  {
   "cell_type": "markdown",
   "metadata": {},
   "source": [
    "## Part 2: Binary Logistic Regression"
   ]
  },
  {
   "cell_type": "markdown",
   "metadata": {},
   "source": [
    "#### 1. Checking for Multicollinearity Among Predictors"
   ]
  },
  {
   "cell_type": "code",
   "execution_count": 18,
   "metadata": {},
   "outputs": [],
   "source": [
    "# creating new dataframe \n",
    "test_Df = student_performance.copy()"
   ]
  },
  {
   "cell_type": "code",
   "execution_count": 19,
   "metadata": {},
   "outputs": [
    {
     "data": {
      "text/html": [
       "<div>\n",
       "<style scoped>\n",
       "    .dataframe tbody tr th:only-of-type {\n",
       "        vertical-align: middle;\n",
       "    }\n",
       "\n",
       "    .dataframe tbody tr th {\n",
       "        vertical-align: top;\n",
       "    }\n",
       "\n",
       "    .dataframe thead th {\n",
       "        text-align: right;\n",
       "    }\n",
       "</style>\n",
       "<table border=\"1\" class=\"dataframe\">\n",
       "  <thead>\n",
       "    <tr style=\"text-align: right;\">\n",
       "      <th></th>\n",
       "      <th>gender</th>\n",
       "      <th>race/ethnicity</th>\n",
       "      <th>parental_level_of_education</th>\n",
       "      <th>lunch</th>\n",
       "      <th>test_preparation_course</th>\n",
       "      <th>math_score</th>\n",
       "      <th>reading_score</th>\n",
       "      <th>writing_score</th>\n",
       "    </tr>\n",
       "  </thead>\n",
       "  <tbody>\n",
       "    <tr>\n",
       "      <th>0</th>\n",
       "      <td>1</td>\n",
       "      <td>1</td>\n",
       "      <td>1</td>\n",
       "      <td>1</td>\n",
       "      <td>1</td>\n",
       "      <td>67</td>\n",
       "      <td>67</td>\n",
       "      <td>63</td>\n",
       "    </tr>\n",
       "    <tr>\n",
       "      <th>1</th>\n",
       "      <td>2</td>\n",
       "      <td>2</td>\n",
       "      <td>2</td>\n",
       "      <td>2</td>\n",
       "      <td>2</td>\n",
       "      <td>40</td>\n",
       "      <td>59</td>\n",
       "      <td>55</td>\n",
       "    </tr>\n",
       "    <tr>\n",
       "      <th>2</th>\n",
       "      <td>1</td>\n",
       "      <td>3</td>\n",
       "      <td>3</td>\n",
       "      <td>2</td>\n",
       "      <td>2</td>\n",
       "      <td>59</td>\n",
       "      <td>60</td>\n",
       "      <td>50</td>\n",
       "    </tr>\n",
       "    <tr>\n",
       "      <th>3</th>\n",
       "      <td>1</td>\n",
       "      <td>4</td>\n",
       "      <td>1</td>\n",
       "      <td>1</td>\n",
       "      <td>2</td>\n",
       "      <td>77</td>\n",
       "      <td>78</td>\n",
       "      <td>68</td>\n",
       "    </tr>\n",
       "    <tr>\n",
       "      <th>4</th>\n",
       "      <td>1</td>\n",
       "      <td>3</td>\n",
       "      <td>4</td>\n",
       "      <td>1</td>\n",
       "      <td>1</td>\n",
       "      <td>78</td>\n",
       "      <td>73</td>\n",
       "      <td>68</td>\n",
       "    </tr>\n",
       "  </tbody>\n",
       "</table>\n",
       "</div>"
      ],
      "text/plain": [
       "   gender  race/ethnicity  parental_level_of_education  lunch  \\\n",
       "0       1               1                            1      1   \n",
       "1       2               2                            2      2   \n",
       "2       1               3                            3      2   \n",
       "3       1               4                            1      1   \n",
       "4       1               3                            4      1   \n",
       "\n",
       "   test_preparation_course  math_score  reading_score  writing_score  \n",
       "0                        1          67             67             63  \n",
       "1                        2          40             59             55  \n",
       "2                        2          59             60             50  \n",
       "3                        2          77             78             68  \n",
       "4                        1          78             73             68  "
      ]
     },
     "execution_count": 19,
     "metadata": {},
     "output_type": "execute_result"
    }
   ],
   "source": [
    "# recoding for each category for each categorical variable\n",
    "for col in list(test_Df.columns[:-3]):\n",
    "    d = {} # Creating hashmap of key-value pairs of each category to recoded value\n",
    "    recode = 1\n",
    "    for val in list(test_Df[col].unique()):\n",
    "        d[val] = d.get(val, recode)\n",
    "        recode += 1\n",
    "    test_Df[col] = test_Df[col].replace(d) # replacing values in col with recoded values \n",
    "\n",
    "test_Df.head()"
   ]
  },
  {
   "cell_type": "code",
   "execution_count": 20,
   "metadata": {},
   "outputs": [
    {
     "data": {
      "text/html": [
       "<div>\n",
       "<style scoped>\n",
       "    .dataframe tbody tr th:only-of-type {\n",
       "        vertical-align: middle;\n",
       "    }\n",
       "\n",
       "    .dataframe tbody tr th {\n",
       "        vertical-align: top;\n",
       "    }\n",
       "\n",
       "    .dataframe thead th {\n",
       "        text-align: right;\n",
       "    }\n",
       "</style>\n",
       "<table border=\"1\" class=\"dataframe\">\n",
       "  <thead>\n",
       "    <tr style=\"text-align: right;\">\n",
       "      <th></th>\n",
       "      <th>gender</th>\n",
       "      <th>race/ethnicity</th>\n",
       "      <th>parental_level_of_education</th>\n",
       "      <th>lunch</th>\n",
       "      <th>test_preparation_course</th>\n",
       "    </tr>\n",
       "  </thead>\n",
       "  <tbody>\n",
       "    <tr>\n",
       "      <th>0</th>\n",
       "      <td>1</td>\n",
       "      <td>1</td>\n",
       "      <td>1</td>\n",
       "      <td>1</td>\n",
       "      <td>1</td>\n",
       "    </tr>\n",
       "    <tr>\n",
       "      <th>1</th>\n",
       "      <td>2</td>\n",
       "      <td>2</td>\n",
       "      <td>2</td>\n",
       "      <td>2</td>\n",
       "      <td>2</td>\n",
       "    </tr>\n",
       "    <tr>\n",
       "      <th>2</th>\n",
       "      <td>1</td>\n",
       "      <td>3</td>\n",
       "      <td>3</td>\n",
       "      <td>2</td>\n",
       "      <td>2</td>\n",
       "    </tr>\n",
       "    <tr>\n",
       "      <th>3</th>\n",
       "      <td>1</td>\n",
       "      <td>4</td>\n",
       "      <td>1</td>\n",
       "      <td>1</td>\n",
       "      <td>2</td>\n",
       "    </tr>\n",
       "    <tr>\n",
       "      <th>4</th>\n",
       "      <td>1</td>\n",
       "      <td>3</td>\n",
       "      <td>4</td>\n",
       "      <td>1</td>\n",
       "      <td>1</td>\n",
       "    </tr>\n",
       "  </tbody>\n",
       "</table>\n",
       "</div>"
      ],
      "text/plain": [
       "   gender  race/ethnicity  parental_level_of_education  lunch  \\\n",
       "0       1               1                            1      1   \n",
       "1       2               2                            2      2   \n",
       "2       1               3                            3      2   \n",
       "3       1               4                            1      1   \n",
       "4       1               3                            4      1   \n",
       "\n",
       "   test_preparation_course  \n",
       "0                        1  \n",
       "1                        2  \n",
       "2                        2  \n",
       "3                        2  \n",
       "4                        1  "
      ]
     },
     "execution_count": 20,
     "metadata": {},
     "output_type": "execute_result"
    }
   ],
   "source": [
    "# new dataframe containing only predictors\n",
    "predictors_df = test_Df.drop([\"math_score\", \"reading_score\", \"writing_score\"], axis = 1).copy()\n",
    "predictors_df.head()"
   ]
  },
  {
   "cell_type": "code",
   "execution_count": 21,
   "metadata": {},
   "outputs": [
    {
     "data": {
      "text/plain": [
       "<AxesSubplot:>"
      ]
     },
     "execution_count": 21,
     "metadata": {},
     "output_type": "execute_result"
    },
    {
     "data": {
      "image/png": "[encoded data removed]",
      "text/plain": [
       "<Figure size 432x288 with 2 Axes>"
      ]
     },
     "metadata": {
      "needs_background": "light"
     },
     "output_type": "display_data"
    }
   ],
   "source": [
    "# creating a correlation matrix heat map and identifying any high covariates\n",
    "sns.heatmap(predictors_df.corr(), annot=True, cmap=\"Blues\")\n"
   ]
  },
  {
   "cell_type": "markdown",
   "metadata": {},
   "source": [
    "Based on results of the correlation matrix, there does not appear to be evidence of multicollinearity among predictors. As a result, no categories will need to be exlcuded from the analysis."
   ]
  },
  {
   "cell_type": "markdown",
   "metadata": {},
   "source": [
    "#### 2. Converting Target Variables into Binary Outcomes of above or below the average"
   ]
  },
  {
   "cell_type": "code",
   "execution_count": 22,
   "metadata": {},
   "outputs": [
    {
     "name": "stdout",
     "output_type": "stream",
     "text": [
      "math_score       66.4\n",
      "reading_score    69.0\n",
      "writing_score    67.7\n",
      "Name: mean, dtype: float64\n"
     ]
    }
   ],
   "source": [
    "# printing average performances of students for each exam\n",
    "print(summary.loc[\"mean\"])"
   ]
  },
  {
   "cell_type": "code",
   "execution_count": 23,
   "metadata": {},
   "outputs": [
    {
     "data": {
      "text/plain": [
       "['gender',\n",
       " 'race/ethnicity',\n",
       " 'parental_level_of_education',\n",
       " 'lunch',\n",
       " 'test_preparation_course',\n",
       " 'math_score',\n",
       " 'reading_score',\n",
       " 'writing_score']"
      ]
     },
     "execution_count": 23,
     "metadata": {},
     "output_type": "execute_result"
    }
   ],
   "source": [
    "# getting list of columns\n",
    "list(student_performance.columns)"
   ]
  },
  {
   "cell_type": "code",
   "execution_count": 24,
   "metadata": {},
   "outputs": [
    {
     "data": {
      "text/html": [
       "<div>\n",
       "<style scoped>\n",
       "    .dataframe tbody tr th:only-of-type {\n",
       "        vertical-align: middle;\n",
       "    }\n",
       "\n",
       "    .dataframe tbody tr th {\n",
       "        vertical-align: top;\n",
       "    }\n",
       "\n",
       "    .dataframe thead th {\n",
       "        text-align: right;\n",
       "    }\n",
       "</style>\n",
       "<table border=\"1\" class=\"dataframe\">\n",
       "  <thead>\n",
       "    <tr style=\"text-align: right;\">\n",
       "      <th></th>\n",
       "      <th>gender</th>\n",
       "      <th>race/ethnicity</th>\n",
       "      <th>parental_level_of_education</th>\n",
       "      <th>lunch</th>\n",
       "      <th>test_preparation_course</th>\n",
       "      <th>math_score</th>\n",
       "      <th>reading_score</th>\n",
       "      <th>writing_score</th>\n",
       "    </tr>\n",
       "  </thead>\n",
       "  <tbody>\n",
       "    <tr>\n",
       "      <th>0</th>\n",
       "      <td>male</td>\n",
       "      <td>group A</td>\n",
       "      <td>high school</td>\n",
       "      <td>standard</td>\n",
       "      <td>completed</td>\n",
       "      <td>1</td>\n",
       "      <td>0</td>\n",
       "      <td>0</td>\n",
       "    </tr>\n",
       "    <tr>\n",
       "      <th>1</th>\n",
       "      <td>female</td>\n",
       "      <td>group D</td>\n",
       "      <td>some high school</td>\n",
       "      <td>free/reduced</td>\n",
       "      <td>none</td>\n",
       "      <td>0</td>\n",
       "      <td>0</td>\n",
       "      <td>0</td>\n",
       "    </tr>\n",
       "    <tr>\n",
       "      <th>2</th>\n",
       "      <td>male</td>\n",
       "      <td>group E</td>\n",
       "      <td>some college</td>\n",
       "      <td>free/reduced</td>\n",
       "      <td>none</td>\n",
       "      <td>0</td>\n",
       "      <td>0</td>\n",
       "      <td>0</td>\n",
       "    </tr>\n",
       "    <tr>\n",
       "      <th>3</th>\n",
       "      <td>male</td>\n",
       "      <td>group B</td>\n",
       "      <td>high school</td>\n",
       "      <td>standard</td>\n",
       "      <td>none</td>\n",
       "      <td>1</td>\n",
       "      <td>1</td>\n",
       "      <td>1</td>\n",
       "    </tr>\n",
       "    <tr>\n",
       "      <th>4</th>\n",
       "      <td>male</td>\n",
       "      <td>group E</td>\n",
       "      <td>associate's degree</td>\n",
       "      <td>standard</td>\n",
       "      <td>completed</td>\n",
       "      <td>1</td>\n",
       "      <td>1</td>\n",
       "      <td>1</td>\n",
       "    </tr>\n",
       "  </tbody>\n",
       "</table>\n",
       "</div>"
      ],
      "text/plain": [
       "   gender race/ethnicity parental_level_of_education         lunch  \\\n",
       "0    male        group A                 high school      standard   \n",
       "1  female        group D            some high school  free/reduced   \n",
       "2    male        group E                some college  free/reduced   \n",
       "3    male        group B                 high school      standard   \n",
       "4    male        group E          associate's degree      standard   \n",
       "\n",
       "  test_preparation_course  math_score  reading_score  writing_score  \n",
       "0               completed           1              0              0  \n",
       "1                    none           0              0              0  \n",
       "2                    none           0              0              0  \n",
       "3                    none           1              1              1  \n",
       "4               completed           1              1              1  "
      ]
     },
     "execution_count": 24,
     "metadata": {},
     "output_type": "execute_result"
    }
   ],
   "source": [
    "# Since we are predicting students with above average performances, we will recoding math, reading, and writing score as 0 - below the mean, 1 - above the mean\n",
    "# Creating functions to replace math, reading, and writing scores as 0 or 1\n",
    "def above_below_math(score):\n",
    "    avg = summary.loc[\"mean\"][\"math_score\"]\n",
    "    if score > avg:\n",
    "        return 1 # above\n",
    "    else:\n",
    "        return 0 # below\n",
    "\n",
    "def above_below_reading(score):\n",
    "    avg = summary.loc[\"mean\"][\"reading_score\"]\n",
    "    if score > avg:\n",
    "        return 1 # above\n",
    "    else:\n",
    "        return 0 # below\n",
    "\n",
    "def above_below_writing(score):\n",
    "    avg = summary.loc[\"mean\"][\"writing_score\"]\n",
    "    if score > avg:\n",
    "        return 1 # above\n",
    "    else:\n",
    "        return 0 # below\n",
    "\n",
    "new_df = student_performance.copy() # create a copy of the student_performance dataframe as new_df\n",
    "new_df[[\"math_score\", \"reading_score\", \"writing_score\"]] = new_df.apply(\n",
    "        {\n",
    "            \"math_score\":above_below_math, \n",
    "            \"reading_score\": above_below_reading,\n",
    "            \"writing_score\": above_below_writing\n",
    "        }, \n",
    "        axis = 0\n",
    "    )\n",
    "new_df.head()"
   ]
  },
  {
   "attachments": {},
   "cell_type": "markdown",
   "metadata": {},
   "source": [
    "#### 3. Converting Features to Categorical Data Types and Creating Dummy Variables"
   ]
  },
  {
   "cell_type": "code",
   "execution_count": 25,
   "metadata": {},
   "outputs": [
    {
     "name": "stdout",
     "output_type": "stream",
     "text": [
      "<class 'pandas.core.frame.DataFrame'>\n",
      "RangeIndex: 1000 entries, 0 to 999\n",
      "Data columns (total 8 columns):\n",
      " #   Column                       Non-Null Count  Dtype \n",
      "---  ------                       --------------  ----- \n",
      " 0   gender                       1000 non-null   object\n",
      " 1   race/ethnicity               1000 non-null   object\n",
      " 2   parental_level_of_education  1000 non-null   object\n",
      " 3   lunch                        1000 non-null   object\n",
      " 4   test_preparation_course      1000 non-null   object\n",
      " 5   math_score                   1000 non-null   int64 \n",
      " 6   reading_score                1000 non-null   int64 \n",
      " 7   writing_score                1000 non-null   int64 \n",
      "dtypes: int64(3), object(5)\n",
      "memory usage: 62.6+ KB\n"
     ]
    }
   ],
   "source": [
    "# Display data types of dataset\n",
    "new_df.info()"
   ]
  },
  {
   "cell_type": "code",
   "execution_count": 26,
   "metadata": {},
   "outputs": [
    {
     "name": "stdout",
     "output_type": "stream",
     "text": [
      "<class 'pandas.core.frame.DataFrame'>\n",
      "RangeIndex: 1000 entries, 0 to 999\n",
      "Data columns (total 8 columns):\n",
      " #   Column                       Non-Null Count  Dtype   \n",
      "---  ------                       --------------  -----   \n",
      " 0   gender                       1000 non-null   category\n",
      " 1   race/ethnicity               1000 non-null   category\n",
      " 2   parental_level_of_education  1000 non-null   category\n",
      " 3   lunch                        1000 non-null   category\n",
      " 4   test_preparation_course      1000 non-null   category\n",
      " 5   math_score                   1000 non-null   int64   \n",
      " 6   reading_score                1000 non-null   int64   \n",
      " 7   writing_score                1000 non-null   int64   \n",
      "dtypes: category(5), int64(3)\n",
      "memory usage: 29.2 KB\n"
     ]
    }
   ],
   "source": [
    "# Convert features into category\n",
    "for col in list(new_df.columns)[:-3]:\n",
    "    new_df[col] = new_df[col].astype(\"category\")\n",
    "\n",
    "new_df.info()"
   ]
  },
  {
   "cell_type": "code",
   "execution_count": 27,
   "metadata": {},
   "outputs": [
    {
     "data": {
      "text/html": [
       "<div>\n",
       "<style scoped>\n",
       "    .dataframe tbody tr th:only-of-type {\n",
       "        vertical-align: middle;\n",
       "    }\n",
       "\n",
       "    .dataframe tbody tr th {\n",
       "        vertical-align: top;\n",
       "    }\n",
       "\n",
       "    .dataframe thead th {\n",
       "        text-align: right;\n",
       "    }\n",
       "</style>\n",
       "<table border=\"1\" class=\"dataframe\">\n",
       "  <thead>\n",
       "    <tr style=\"text-align: right;\">\n",
       "      <th></th>\n",
       "      <th>gender</th>\n",
       "      <th>race/ethnicity</th>\n",
       "      <th>parental_level_of_education</th>\n",
       "      <th>lunch</th>\n",
       "      <th>test_preparation_course</th>\n",
       "      <th>math_score</th>\n",
       "      <th>reading_score</th>\n",
       "      <th>writing_score</th>\n",
       "    </tr>\n",
       "  </thead>\n",
       "  <tbody>\n",
       "    <tr>\n",
       "      <th>0</th>\n",
       "      <td>male</td>\n",
       "      <td>group A</td>\n",
       "      <td>high school</td>\n",
       "      <td>standard</td>\n",
       "      <td>completed</td>\n",
       "      <td>1</td>\n",
       "      <td>0</td>\n",
       "      <td>0</td>\n",
       "    </tr>\n",
       "    <tr>\n",
       "      <th>1</th>\n",
       "      <td>female</td>\n",
       "      <td>group D</td>\n",
       "      <td>some high school</td>\n",
       "      <td>free/reduced</td>\n",
       "      <td>none</td>\n",
       "      <td>0</td>\n",
       "      <td>0</td>\n",
       "      <td>0</td>\n",
       "    </tr>\n",
       "    <tr>\n",
       "      <th>2</th>\n",
       "      <td>male</td>\n",
       "      <td>group E</td>\n",
       "      <td>some college</td>\n",
       "      <td>free/reduced</td>\n",
       "      <td>none</td>\n",
       "      <td>0</td>\n",
       "      <td>0</td>\n",
       "      <td>0</td>\n",
       "    </tr>\n",
       "    <tr>\n",
       "      <th>3</th>\n",
       "      <td>male</td>\n",
       "      <td>group B</td>\n",
       "      <td>high school</td>\n",
       "      <td>standard</td>\n",
       "      <td>none</td>\n",
       "      <td>1</td>\n",
       "      <td>1</td>\n",
       "      <td>1</td>\n",
       "    </tr>\n",
       "    <tr>\n",
       "      <th>4</th>\n",
       "      <td>male</td>\n",
       "      <td>group E</td>\n",
       "      <td>associate's degree</td>\n",
       "      <td>standard</td>\n",
       "      <td>completed</td>\n",
       "      <td>1</td>\n",
       "      <td>1</td>\n",
       "      <td>1</td>\n",
       "    </tr>\n",
       "  </tbody>\n",
       "</table>\n",
       "</div>"
      ],
      "text/plain": [
       "   gender race/ethnicity parental_level_of_education         lunch  \\\n",
       "0    male        group A                 high school      standard   \n",
       "1  female        group D            some high school  free/reduced   \n",
       "2    male        group E                some college  free/reduced   \n",
       "3    male        group B                 high school      standard   \n",
       "4    male        group E          associate's degree      standard   \n",
       "\n",
       "  test_preparation_course  math_score  reading_score  writing_score  \n",
       "0               completed           1              0              0  \n",
       "1                    none           0              0              0  \n",
       "2                    none           0              0              0  \n",
       "3                    none           1              1              1  \n",
       "4               completed           1              1              1  "
      ]
     },
     "execution_count": 27,
     "metadata": {},
     "output_type": "execute_result"
    }
   ],
   "source": [
    "new_df.head()"
   ]
  },
  {
   "cell_type": "code",
   "execution_count": 28,
   "metadata": {},
   "outputs": [
    {
     "data": {
      "text/html": [
       "<div>\n",
       "<style scoped>\n",
       "    .dataframe tbody tr th:only-of-type {\n",
       "        vertical-align: middle;\n",
       "    }\n",
       "\n",
       "    .dataframe tbody tr th {\n",
       "        vertical-align: top;\n",
       "    }\n",
       "\n",
       "    .dataframe thead th {\n",
       "        text-align: right;\n",
       "    }\n",
       "</style>\n",
       "<table border=\"1\" class=\"dataframe\">\n",
       "  <thead>\n",
       "    <tr style=\"text-align: right;\">\n",
       "      <th></th>\n",
       "      <th>math_score</th>\n",
       "      <th>reading_score</th>\n",
       "      <th>writing_score</th>\n",
       "      <th>gender_female</th>\n",
       "      <th>gender_male</th>\n",
       "      <th>race/ethnicity_group A</th>\n",
       "      <th>race/ethnicity_group B</th>\n",
       "      <th>race/ethnicity_group C</th>\n",
       "      <th>race/ethnicity_group D</th>\n",
       "      <th>race/ethnicity_group E</th>\n",
       "      <th>parental_level_of_education_associate's degree</th>\n",
       "      <th>parental_level_of_education_bachelor's degree</th>\n",
       "      <th>parental_level_of_education_high school</th>\n",
       "      <th>parental_level_of_education_master's degree</th>\n",
       "      <th>parental_level_of_education_some college</th>\n",
       "      <th>parental_level_of_education_some high school</th>\n",
       "      <th>lunch_free/reduced</th>\n",
       "      <th>lunch_standard</th>\n",
       "      <th>test_preparation_course_completed</th>\n",
       "      <th>test_preparation_course_none</th>\n",
       "    </tr>\n",
       "  </thead>\n",
       "  <tbody>\n",
       "    <tr>\n",
       "      <th>0</th>\n",
       "      <td>1</td>\n",
       "      <td>0</td>\n",
       "      <td>0</td>\n",
       "      <td>0</td>\n",
       "      <td>1</td>\n",
       "      <td>1</td>\n",
       "      <td>0</td>\n",
       "      <td>0</td>\n",
       "      <td>0</td>\n",
       "      <td>0</td>\n",
       "      <td>0</td>\n",
       "      <td>0</td>\n",
       "      <td>1</td>\n",
       "      <td>0</td>\n",
       "      <td>0</td>\n",
       "      <td>0</td>\n",
       "      <td>0</td>\n",
       "      <td>1</td>\n",
       "      <td>1</td>\n",
       "      <td>0</td>\n",
       "    </tr>\n",
       "    <tr>\n",
       "      <th>1</th>\n",
       "      <td>0</td>\n",
       "      <td>0</td>\n",
       "      <td>0</td>\n",
       "      <td>1</td>\n",
       "      <td>0</td>\n",
       "      <td>0</td>\n",
       "      <td>0</td>\n",
       "      <td>0</td>\n",
       "      <td>1</td>\n",
       "      <td>0</td>\n",
       "      <td>0</td>\n",
       "      <td>0</td>\n",
       "      <td>0</td>\n",
       "      <td>0</td>\n",
       "      <td>0</td>\n",
       "      <td>1</td>\n",
       "      <td>1</td>\n",
       "      <td>0</td>\n",
       "      <td>0</td>\n",
       "      <td>1</td>\n",
       "    </tr>\n",
       "    <tr>\n",
       "      <th>2</th>\n",
       "      <td>0</td>\n",
       "      <td>0</td>\n",
       "      <td>0</td>\n",
       "      <td>0</td>\n",
       "      <td>1</td>\n",
       "      <td>0</td>\n",
       "      <td>0</td>\n",
       "      <td>0</td>\n",
       "      <td>0</td>\n",
       "      <td>1</td>\n",
       "      <td>0</td>\n",
       "      <td>0</td>\n",
       "      <td>0</td>\n",
       "      <td>0</td>\n",
       "      <td>1</td>\n",
       "      <td>0</td>\n",
       "      <td>1</td>\n",
       "      <td>0</td>\n",
       "      <td>0</td>\n",
       "      <td>1</td>\n",
       "    </tr>\n",
       "    <tr>\n",
       "      <th>3</th>\n",
       "      <td>1</td>\n",
       "      <td>1</td>\n",
       "      <td>1</td>\n",
       "      <td>0</td>\n",
       "      <td>1</td>\n",
       "      <td>0</td>\n",
       "      <td>1</td>\n",
       "      <td>0</td>\n",
       "      <td>0</td>\n",
       "      <td>0</td>\n",
       "      <td>0</td>\n",
       "      <td>0</td>\n",
       "      <td>1</td>\n",
       "      <td>0</td>\n",
       "      <td>0</td>\n",
       "      <td>0</td>\n",
       "      <td>0</td>\n",
       "      <td>1</td>\n",
       "      <td>0</td>\n",
       "      <td>1</td>\n",
       "    </tr>\n",
       "    <tr>\n",
       "      <th>4</th>\n",
       "      <td>1</td>\n",
       "      <td>1</td>\n",
       "      <td>1</td>\n",
       "      <td>0</td>\n",
       "      <td>1</td>\n",
       "      <td>0</td>\n",
       "      <td>0</td>\n",
       "      <td>0</td>\n",
       "      <td>0</td>\n",
       "      <td>1</td>\n",
       "      <td>1</td>\n",
       "      <td>0</td>\n",
       "      <td>0</td>\n",
       "      <td>0</td>\n",
       "      <td>0</td>\n",
       "      <td>0</td>\n",
       "      <td>0</td>\n",
       "      <td>1</td>\n",
       "      <td>1</td>\n",
       "      <td>0</td>\n",
       "    </tr>\n",
       "  </tbody>\n",
       "</table>\n",
       "</div>"
      ],
      "text/plain": [
       "   math_score  reading_score  writing_score  gender_female  gender_male  \\\n",
       "0           1              0              0              0            1   \n",
       "1           0              0              0              1            0   \n",
       "2           0              0              0              0            1   \n",
       "3           1              1              1              0            1   \n",
       "4           1              1              1              0            1   \n",
       "\n",
       "   race/ethnicity_group A  race/ethnicity_group B  race/ethnicity_group C  \\\n",
       "0                       1                       0                       0   \n",
       "1                       0                       0                       0   \n",
       "2                       0                       0                       0   \n",
       "3                       0                       1                       0   \n",
       "4                       0                       0                       0   \n",
       "\n",
       "   race/ethnicity_group D  race/ethnicity_group E  \\\n",
       "0                       0                       0   \n",
       "1                       1                       0   \n",
       "2                       0                       1   \n",
       "3                       0                       0   \n",
       "4                       0                       1   \n",
       "\n",
       "   parental_level_of_education_associate's degree  \\\n",
       "0                                               0   \n",
       "1                                               0   \n",
       "2                                               0   \n",
       "3                                               0   \n",
       "4                                               1   \n",
       "\n",
       "   parental_level_of_education_bachelor's degree  \\\n",
       "0                                              0   \n",
       "1                                              0   \n",
       "2                                              0   \n",
       "3                                              0   \n",
       "4                                              0   \n",
       "\n",
       "   parental_level_of_education_high school  \\\n",
       "0                                        1   \n",
       "1                                        0   \n",
       "2                                        0   \n",
       "3                                        1   \n",
       "4                                        0   \n",
       "\n",
       "   parental_level_of_education_master's degree  \\\n",
       "0                                            0   \n",
       "1                                            0   \n",
       "2                                            0   \n",
       "3                                            0   \n",
       "4                                            0   \n",
       "\n",
       "   parental_level_of_education_some college  \\\n",
       "0                                         0   \n",
       "1                                         0   \n",
       "2                                         1   \n",
       "3                                         0   \n",
       "4                                         0   \n",
       "\n",
       "   parental_level_of_education_some high school  lunch_free/reduced  \\\n",
       "0                                             0                   0   \n",
       "1                                             1                   1   \n",
       "2                                             0                   1   \n",
       "3                                             0                   0   \n",
       "4                                             0                   0   \n",
       "\n",
       "   lunch_standard  test_preparation_course_completed  \\\n",
       "0               1                                  1   \n",
       "1               0                                  0   \n",
       "2               0                                  0   \n",
       "3               1                                  0   \n",
       "4               1                                  1   \n",
       "\n",
       "   test_preparation_course_none  \n",
       "0                             0  \n",
       "1                             1  \n",
       "2                             1  \n",
       "3                             1  \n",
       "4                             0  "
      ]
     },
     "execution_count": 28,
     "metadata": {},
     "output_type": "execute_result"
    }
   ],
   "source": [
    "# Creating dummy variables\n",
    "for col in list(new_df.columns[:-3]):\n",
    "    new_df = pd.get_dummies(new_df, columns=[col])\n",
    "\n",
    "new_df.head()"
   ]
  },
  {
   "cell_type": "code",
   "execution_count": 29,
   "metadata": {},
   "outputs": [
    {
     "data": {
      "text/plain": [
       "Index(['math_score', 'reading_score', 'writing_score', 'gender_female',\n",
       "       'gender_male', 'race/ethnicity_group A', 'race/ethnicity_group B',\n",
       "       'race/ethnicity_group C', 'race/ethnicity_group D',\n",
       "       'race/ethnicity_group E',\n",
       "       'parental_level_of_education_associate's degree',\n",
       "       'parental_level_of_education_bachelor's degree',\n",
       "       'parental_level_of_education_high school',\n",
       "       'parental_level_of_education_master's degree',\n",
       "       'parental_level_of_education_some college',\n",
       "       'parental_level_of_education_some high school', 'lunch_free/reduced',\n",
       "       'lunch_standard', 'test_preparation_course_completed',\n",
       "       'test_preparation_course_none'],\n",
       "      dtype='object')"
      ]
     },
     "execution_count": 29,
     "metadata": {},
     "output_type": "execute_result"
    }
   ],
   "source": [
    "new_df.columns"
   ]
  },
  {
   "cell_type": "code",
   "execution_count": 30,
   "metadata": {},
   "outputs": [],
   "source": [
    "# Dropping Redundant Dummies - omitting categories with highest samples\n",
    "new_df = new_df.drop(labels=[\"gender_male\", 'race/ethnicity_group C', 'parental_level_of_education_some college', 'lunch_standard', 'test_preparation_course_none'], axis = 1)"
   ]
  },
  {
   "cell_type": "code",
   "execution_count": 31,
   "metadata": {},
   "outputs": [
    {
     "data": {
      "text/plain": [
       "Index(['math_score', 'reading_score', 'writing_score', 'gender_female',\n",
       "       'race/ethnicity_group A', 'race/ethnicity_group B',\n",
       "       'race/ethnicity_group D', 'race/ethnicity_group E',\n",
       "       'parental_level_of_education_associate's degree',\n",
       "       'parental_level_of_education_bachelor's degree',\n",
       "       'parental_level_of_education_high school',\n",
       "       'parental_level_of_education_master's degree',\n",
       "       'parental_level_of_education_some high school', 'lunch_free/reduced',\n",
       "       'test_preparation_course_completed'],\n",
       "      dtype='object')"
      ]
     },
     "execution_count": 31,
     "metadata": {},
     "output_type": "execute_result"
    }
   ],
   "source": [
    "# retreiving list of column names\n",
    "new_df.columns"
   ]
  },
  {
   "cell_type": "markdown",
   "metadata": {},
   "source": [
    "####  4. Fitting Logistic Regression Model"
   ]
  },
  {
   "cell_type": "code",
   "execution_count": 32,
   "metadata": {},
   "outputs": [],
   "source": [
    "# Creating a function that fits a logistic model to the data of the desired metric\n",
    "def fit_logit(score:str):\n",
    "   # defining feature matrix for the model\n",
    "   feature_matrix = new_df[['gender_female',\n",
    "      'race/ethnicity_group A', 'race/ethnicity_group B',\n",
    "      'race/ethnicity_group D', 'race/ethnicity_group E',\n",
    "      \"parental_level_of_education_associate's degree\",\n",
    "      \"parental_level_of_education_bachelor's degree\",\n",
    "      'parental_level_of_education_high school',\n",
    "      \"parental_level_of_education_master's degree\",\n",
    "      'parental_level_of_education_some high school', 'lunch_free/reduced',\n",
    "      'test_preparation_course_completed']]\n",
    "   X_label = feature_matrix\n",
    "   # adding intercept to the model\n",
    "   X_label = sm.add_constant(X_label)\n",
    "   # defining model target/label \n",
    "   y = new_df[score]\n",
    "\n",
    "   logit_model=sm.Logit(y, X_label) # creating instance of the logistic regression model\n",
    "   result=logit_model.fit() # fitting model to the data\n",
    "   \n",
    "   return result"
   ]
  },
  {
   "cell_type": "code",
   "execution_count": 33,
   "metadata": {},
   "outputs": [
    {
     "name": "stdout",
     "output_type": "stream",
     "text": [
      "Optimization terminated successfully.\n",
      "         Current function value: 0.580469\n",
      "         Iterations 6\n"
     ]
    },
    {
     "data": {
      "text/html": [
       "<table class=\"simpletable\">\n",
       "<caption>Logit Regression Results</caption>\n",
       "<tr>\n",
       "  <th>Dep. Variable:</th>      <td>math_score</td>    <th>  No. Observations:  </th>  <td>  1000</td>  \n",
       "</tr>\n",
       "<tr>\n",
       "  <th>Model:</th>                 <td>Logit</td>      <th>  Df Residuals:      </th>  <td>   987</td>  \n",
       "</tr>\n",
       "<tr>\n",
       "  <th>Method:</th>                 <td>MLE</td>       <th>  Df Model:          </th>  <td>    12</td>  \n",
       "</tr>\n",
       "<tr>\n",
       "  <th>Date:</th>            <td>Wed, 02 Nov 2022</td> <th>  Pseudo R-squ.:     </th>  <td>0.1626</td>  \n",
       "</tr>\n",
       "<tr>\n",
       "  <th>Time:</th>                <td>21:49:44</td>     <th>  Log-Likelihood:    </th> <td> -580.47</td> \n",
       "</tr>\n",
       "<tr>\n",
       "  <th>converged:</th>             <td>True</td>       <th>  LL-Null:           </th> <td> -693.15</td> \n",
       "</tr>\n",
       "<tr>\n",
       "  <th>Covariance Type:</th>     <td>nonrobust</td>    <th>  LLR p-value:       </th> <td>1.837e-41</td>\n",
       "</tr>\n",
       "</table>\n",
       "<table class=\"simpletable\">\n",
       "<tr>\n",
       "                         <td></td>                           <th>coef</th>     <th>std err</th>      <th>z</th>      <th>P>|z|</th>  <th>[0.025</th>    <th>0.975]</th>  \n",
       "</tr>\n",
       "<tr>\n",
       "  <th>const</th>                                          <td>    0.3399</td> <td>    0.205</td> <td>    1.654</td> <td> 0.098</td> <td>   -0.063</td> <td>    0.743</td>\n",
       "</tr>\n",
       "<tr>\n",
       "  <th>gender_female</th>                                  <td>   -0.8697</td> <td>    0.145</td> <td>   -5.989</td> <td> 0.000</td> <td>   -1.154</td> <td>   -0.585</td>\n",
       "</tr>\n",
       "<tr>\n",
       "  <th>race/ethnicity_group A</th>                         <td>    0.0521</td> <td>    0.280</td> <td>    0.186</td> <td> 0.852</td> <td>   -0.497</td> <td>    0.601</td>\n",
       "</tr>\n",
       "<tr>\n",
       "  <th>race/ethnicity_group B</th>                         <td>   -0.0670</td> <td>    0.200</td> <td>   -0.335</td> <td> 0.738</td> <td>   -0.459</td> <td>    0.325</td>\n",
       "</tr>\n",
       "<tr>\n",
       "  <th>race/ethnicity_group D</th>                         <td>    0.6637</td> <td>    0.187</td> <td>    3.552</td> <td> 0.000</td> <td>    0.297</td> <td>    1.030</td>\n",
       "</tr>\n",
       "<tr>\n",
       "  <th>race/ethnicity_group E</th>                         <td>    1.3908</td> <td>    0.244</td> <td>    5.708</td> <td> 0.000</td> <td>    0.913</td> <td>    1.868</td>\n",
       "</tr>\n",
       "<tr>\n",
       "  <th>parental_level_of_education_associate's degree</th> <td>    0.4123</td> <td>    0.217</td> <td>    1.897</td> <td> 0.058</td> <td>   -0.014</td> <td>    0.838</td>\n",
       "</tr>\n",
       "<tr>\n",
       "  <th>parental_level_of_education_bachelor's degree</th>  <td>    0.4077</td> <td>    0.261</td> <td>    1.563</td> <td> 0.118</td> <td>   -0.104</td> <td>    0.919</td>\n",
       "</tr>\n",
       "<tr>\n",
       "  <th>parental_level_of_education_high school</th>        <td>   -0.1388</td> <td>    0.216</td> <td>   -0.642</td> <td> 0.521</td> <td>   -0.563</td> <td>    0.285</td>\n",
       "</tr>\n",
       "<tr>\n",
       "  <th>parental_level_of_education_master's degree</th>    <td>    0.7907</td> <td>    0.309</td> <td>    2.558</td> <td> 0.011</td> <td>    0.185</td> <td>    1.397</td>\n",
       "</tr>\n",
       "<tr>\n",
       "  <th>parental_level_of_education_some high school</th>   <td>   -0.6447</td> <td>    0.225</td> <td>   -2.862</td> <td> 0.004</td> <td>   -1.086</td> <td>   -0.203</td>\n",
       "</tr>\n",
       "<tr>\n",
       "  <th>lunch_free/reduced</th>                             <td>   -1.5295</td> <td>    0.160</td> <td>   -9.588</td> <td> 0.000</td> <td>   -1.842</td> <td>   -1.217</td>\n",
       "</tr>\n",
       "<tr>\n",
       "  <th>test_preparation_course_completed</th>              <td>    0.6476</td> <td>    0.152</td> <td>    4.250</td> <td> 0.000</td> <td>    0.349</td> <td>    0.946</td>\n",
       "</tr>\n",
       "</table>"
      ],
      "text/plain": [
       "<class 'statsmodels.iolib.summary.Summary'>\n",
       "\"\"\"\n",
       "                           Logit Regression Results                           \n",
       "==============================================================================\n",
       "Dep. Variable:             math_score   No. Observations:                 1000\n",
       "Model:                          Logit   Df Residuals:                      987\n",
       "Method:                           MLE   Df Model:                           12\n",
       "Date:                Wed, 02 Nov 2022   Pseudo R-squ.:                  0.1626\n",
       "Time:                        21:49:44   Log-Likelihood:                -580.47\n",
       "converged:                       True   LL-Null:                       -693.15\n",
       "Covariance Type:            nonrobust   LLR p-value:                 1.837e-41\n",
       "==================================================================================================================\n",
       "                                                     coef    std err          z      P>|z|      [0.025      0.975]\n",
       "------------------------------------------------------------------------------------------------------------------\n",
       "const                                              0.3399      0.205      1.654      0.098      -0.063       0.743\n",
       "gender_female                                     -0.8697      0.145     -5.989      0.000      -1.154      -0.585\n",
       "race/ethnicity_group A                             0.0521      0.280      0.186      0.852      -0.497       0.601\n",
       "race/ethnicity_group B                            -0.0670      0.200     -0.335      0.738      -0.459       0.325\n",
       "race/ethnicity_group D                             0.6637      0.187      3.552      0.000       0.297       1.030\n",
       "race/ethnicity_group E                             1.3908      0.244      5.708      0.000       0.913       1.868\n",
       "parental_level_of_education_associate's degree     0.4123      0.217      1.897      0.058      -0.014       0.838\n",
       "parental_level_of_education_bachelor's degree      0.4077      0.261      1.563      0.118      -0.104       0.919\n",
       "parental_level_of_education_high school           -0.1388      0.216     -0.642      0.521      -0.563       0.285\n",
       "parental_level_of_education_master's degree        0.7907      0.309      2.558      0.011       0.185       1.397\n",
       "parental_level_of_education_some high school      -0.6447      0.225     -2.862      0.004      -1.086      -0.203\n",
       "lunch_free/reduced                                -1.5295      0.160     -9.588      0.000      -1.842      -1.217\n",
       "test_preparation_course_completed                  0.6476      0.152      4.250      0.000       0.349       0.946\n",
       "==================================================================================================================\n",
       "\"\"\""
      ]
     },
     "execution_count": 33,
     "metadata": {},
     "output_type": "execute_result"
    }
   ],
   "source": [
    "# Fitting logistic regression in predicting above average student performance in math\n",
    "logit_math = fit_logit(\"math_score\")\n",
    "logit_math.summary()"
   ]
  },
  {
   "cell_type": "code",
   "execution_count": 34,
   "metadata": {},
   "outputs": [
    {
     "name": "stdout",
     "output_type": "stream",
     "text": [
      "Optimization terminated successfully.\n",
      "         Current function value: 0.609230\n",
      "         Iterations 5\n"
     ]
    },
    {
     "data": {
      "text/html": [
       "<table class=\"simpletable\">\n",
       "<caption>Logit Regression Results</caption>\n",
       "<tr>\n",
       "  <th>Dep. Variable:</th>     <td>reading_score</td>  <th>  No. Observations:  </th>  <td>  1000</td>  \n",
       "</tr>\n",
       "<tr>\n",
       "  <th>Model:</th>                 <td>Logit</td>      <th>  Df Residuals:      </th>  <td>   987</td>  \n",
       "</tr>\n",
       "<tr>\n",
       "  <th>Method:</th>                 <td>MLE</td>       <th>  Df Model:          </th>  <td>    12</td>  \n",
       "</tr>\n",
       "<tr>\n",
       "  <th>Date:</th>            <td>Wed, 02 Nov 2022</td> <th>  Pseudo R-squ.:     </th>  <td>0.1208</td>  \n",
       "</tr>\n",
       "<tr>\n",
       "  <th>Time:</th>                <td>21:49:44</td>     <th>  Log-Likelihood:    </th> <td> -609.23</td> \n",
       "</tr>\n",
       "<tr>\n",
       "  <th>converged:</th>             <td>True</td>       <th>  LL-Null:           </th> <td> -692.95</td> \n",
       "</tr>\n",
       "<tr>\n",
       "  <th>Covariance Type:</th>     <td>nonrobust</td>    <th>  LLR p-value:       </th> <td>1.598e-29</td>\n",
       "</tr>\n",
       "</table>\n",
       "<table class=\"simpletable\">\n",
       "<tr>\n",
       "                         <td></td>                           <th>coef</th>     <th>std err</th>      <th>z</th>      <th>P>|z|</th>  <th>[0.025</th>    <th>0.975]</th>  \n",
       "</tr>\n",
       "<tr>\n",
       "  <th>const</th>                                          <td>   -0.5865</td> <td>    0.203</td> <td>   -2.891</td> <td> 0.004</td> <td>   -0.984</td> <td>   -0.189</td>\n",
       "</tr>\n",
       "<tr>\n",
       "  <th>gender_female</th>                                  <td>    0.6903</td> <td>    0.141</td> <td>    4.908</td> <td> 0.000</td> <td>    0.415</td> <td>    0.966</td>\n",
       "</tr>\n",
       "<tr>\n",
       "  <th>race/ethnicity_group A</th>                         <td>    0.2710</td> <td>    0.274</td> <td>    0.990</td> <td> 0.322</td> <td>   -0.266</td> <td>    0.808</td>\n",
       "</tr>\n",
       "<tr>\n",
       "  <th>race/ethnicity_group B</th>                         <td>   -0.0343</td> <td>    0.195</td> <td>   -0.176</td> <td> 0.860</td> <td>   -0.416</td> <td>    0.347</td>\n",
       "</tr>\n",
       "<tr>\n",
       "  <th>race/ethnicity_group D</th>                         <td>    0.6735</td> <td>    0.182</td> <td>    3.698</td> <td> 0.000</td> <td>    0.317</td> <td>    1.031</td>\n",
       "</tr>\n",
       "<tr>\n",
       "  <th>race/ethnicity_group E</th>                         <td>    0.9271</td> <td>    0.230</td> <td>    4.034</td> <td> 0.000</td> <td>    0.477</td> <td>    1.378</td>\n",
       "</tr>\n",
       "<tr>\n",
       "  <th>parental_level_of_education_associate's degree</th> <td>    0.3807</td> <td>    0.210</td> <td>    1.810</td> <td> 0.070</td> <td>   -0.032</td> <td>    0.793</td>\n",
       "</tr>\n",
       "<tr>\n",
       "  <th>parental_level_of_education_bachelor's degree</th>  <td>    0.4926</td> <td>    0.256</td> <td>    1.923</td> <td> 0.054</td> <td>   -0.009</td> <td>    0.995</td>\n",
       "</tr>\n",
       "<tr>\n",
       "  <th>parental_level_of_education_high school</th>        <td>   -0.1387</td> <td>    0.210</td> <td>   -0.660</td> <td> 0.510</td> <td>   -0.551</td> <td>    0.273</td>\n",
       "</tr>\n",
       "<tr>\n",
       "  <th>parental_level_of_education_master's degree</th>    <td>    0.7166</td> <td>    0.309</td> <td>    2.318</td> <td> 0.020</td> <td>    0.111</td> <td>    1.323</td>\n",
       "</tr>\n",
       "<tr>\n",
       "  <th>parental_level_of_education_some high school</th>   <td>   -0.5118</td> <td>    0.216</td> <td>   -2.370</td> <td> 0.018</td> <td>   -0.935</td> <td>   -0.089</td>\n",
       "</tr>\n",
       "<tr>\n",
       "  <th>lunch_free/reduced</th>                             <td>   -1.0736</td> <td>    0.148</td> <td>   -7.256</td> <td> 0.000</td> <td>   -1.364</td> <td>   -0.784</td>\n",
       "</tr>\n",
       "<tr>\n",
       "  <th>test_preparation_course_completed</th>              <td>    0.9082</td> <td>    0.149</td> <td>    6.085</td> <td> 0.000</td> <td>    0.616</td> <td>    1.201</td>\n",
       "</tr>\n",
       "</table>"
      ],
      "text/plain": [
       "<class 'statsmodels.iolib.summary.Summary'>\n",
       "\"\"\"\n",
       "                           Logit Regression Results                           \n",
       "==============================================================================\n",
       "Dep. Variable:          reading_score   No. Observations:                 1000\n",
       "Model:                          Logit   Df Residuals:                      987\n",
       "Method:                           MLE   Df Model:                           12\n",
       "Date:                Wed, 02 Nov 2022   Pseudo R-squ.:                  0.1208\n",
       "Time:                        21:49:44   Log-Likelihood:                -609.23\n",
       "converged:                       True   LL-Null:                       -692.95\n",
       "Covariance Type:            nonrobust   LLR p-value:                 1.598e-29\n",
       "==================================================================================================================\n",
       "                                                     coef    std err          z      P>|z|      [0.025      0.975]\n",
       "------------------------------------------------------------------------------------------------------------------\n",
       "const                                             -0.5865      0.203     -2.891      0.004      -0.984      -0.189\n",
       "gender_female                                      0.6903      0.141      4.908      0.000       0.415       0.966\n",
       "race/ethnicity_group A                             0.2710      0.274      0.990      0.322      -0.266       0.808\n",
       "race/ethnicity_group B                            -0.0343      0.195     -0.176      0.860      -0.416       0.347\n",
       "race/ethnicity_group D                             0.6735      0.182      3.698      0.000       0.317       1.031\n",
       "race/ethnicity_group E                             0.9271      0.230      4.034      0.000       0.477       1.378\n",
       "parental_level_of_education_associate's degree     0.3807      0.210      1.810      0.070      -0.032       0.793\n",
       "parental_level_of_education_bachelor's degree      0.4926      0.256      1.923      0.054      -0.009       0.995\n",
       "parental_level_of_education_high school           -0.1387      0.210     -0.660      0.510      -0.551       0.273\n",
       "parental_level_of_education_master's degree        0.7166      0.309      2.318      0.020       0.111       1.323\n",
       "parental_level_of_education_some high school      -0.5118      0.216     -2.370      0.018      -0.935      -0.089\n",
       "lunch_free/reduced                                -1.0736      0.148     -7.256      0.000      -1.364      -0.784\n",
       "test_preparation_course_completed                  0.9082      0.149      6.085      0.000       0.616       1.201\n",
       "==================================================================================================================\n",
       "\"\"\""
      ]
     },
     "execution_count": 34,
     "metadata": {},
     "output_type": "execute_result"
    }
   ],
   "source": [
    "# Fitting logistic regression in predicting above average student performance in reading\n",
    "logit_reading = fit_logit(\"reading_score\")\n",
    "logit_reading.summary()"
   ]
  },
  {
   "cell_type": "code",
   "execution_count": 35,
   "metadata": {},
   "outputs": [
    {
     "name": "stdout",
     "output_type": "stream",
     "text": [
      "Optimization terminated successfully.\n",
      "         Current function value: 0.575441\n",
      "         Iterations 6\n"
     ]
    },
    {
     "data": {
      "text/html": [
       "<table class=\"simpletable\">\n",
       "<caption>Logit Regression Results</caption>\n",
       "<tr>\n",
       "  <th>Dep. Variable:</th>     <td>writing_score</td>  <th>  No. Observations:  </th>  <td>  1000</td>  \n",
       "</tr>\n",
       "<tr>\n",
       "  <th>Model:</th>                 <td>Logit</td>      <th>  Df Residuals:      </th>  <td>   987</td>  \n",
       "</tr>\n",
       "<tr>\n",
       "  <th>Method:</th>                 <td>MLE</td>       <th>  Df Model:          </th>  <td>    12</td>  \n",
       "</tr>\n",
       "<tr>\n",
       "  <th>Date:</th>            <td>Wed, 02 Nov 2022</td> <th>  Pseudo R-squ.:     </th>  <td>0.1696</td>  \n",
       "</tr>\n",
       "<tr>\n",
       "  <th>Time:</th>                <td>21:49:44</td>     <th>  Log-Likelihood:    </th> <td> -575.44</td> \n",
       "</tr>\n",
       "<tr>\n",
       "  <th>converged:</th>             <td>True</td>       <th>  LL-Null:           </th> <td> -692.95</td> \n",
       "</tr>\n",
       "<tr>\n",
       "  <th>Covariance Type:</th>     <td>nonrobust</td>    <th>  LLR p-value:       </th> <td>1.810e-43</td>\n",
       "</tr>\n",
       "</table>\n",
       "<table class=\"simpletable\">\n",
       "<tr>\n",
       "                         <td></td>                           <th>coef</th>     <th>std err</th>      <th>z</th>      <th>P>|z|</th>  <th>[0.025</th>    <th>0.975]</th>  \n",
       "</tr>\n",
       "<tr>\n",
       "  <th>const</th>                                          <td>   -0.7273</td> <td>    0.210</td> <td>   -3.464</td> <td> 0.001</td> <td>   -1.139</td> <td>   -0.316</td>\n",
       "</tr>\n",
       "<tr>\n",
       "  <th>gender_female</th>                                  <td>    0.9875</td> <td>    0.147</td> <td>    6.715</td> <td> 0.000</td> <td>    0.699</td> <td>    1.276</td>\n",
       "</tr>\n",
       "<tr>\n",
       "  <th>race/ethnicity_group A</th>                         <td>    0.0541</td> <td>    0.283</td> <td>    0.191</td> <td> 0.849</td> <td>   -0.501</td> <td>    0.610</td>\n",
       "</tr>\n",
       "<tr>\n",
       "  <th>race/ethnicity_group B</th>                         <td>    0.0340</td> <td>    0.202</td> <td>    0.168</td> <td> 0.867</td> <td>   -0.362</td> <td>    0.430</td>\n",
       "</tr>\n",
       "<tr>\n",
       "  <th>race/ethnicity_group D</th>                         <td>    0.8610</td> <td>    0.190</td> <td>    4.525</td> <td> 0.000</td> <td>    0.488</td> <td>    1.234</td>\n",
       "</tr>\n",
       "<tr>\n",
       "  <th>race/ethnicity_group E</th>                         <td>    0.7859</td> <td>    0.235</td> <td>    3.340</td> <td> 0.001</td> <td>    0.325</td> <td>    1.247</td>\n",
       "</tr>\n",
       "<tr>\n",
       "  <th>parental_level_of_education_associate's degree</th> <td>    0.2432</td> <td>    0.217</td> <td>    1.121</td> <td> 0.262</td> <td>   -0.182</td> <td>    0.668</td>\n",
       "</tr>\n",
       "<tr>\n",
       "  <th>parental_level_of_education_bachelor's degree</th>  <td>    0.5584</td> <td>    0.268</td> <td>    2.081</td> <td> 0.037</td> <td>    0.033</td> <td>    1.084</td>\n",
       "</tr>\n",
       "<tr>\n",
       "  <th>parental_level_of_education_high school</th>        <td>   -0.4767</td> <td>    0.218</td> <td>   -2.187</td> <td> 0.029</td> <td>   -0.904</td> <td>   -0.049</td>\n",
       "</tr>\n",
       "<tr>\n",
       "  <th>parental_level_of_education_master's degree</th>    <td>    0.6079</td> <td>    0.320</td> <td>    1.900</td> <td> 0.057</td> <td>   -0.019</td> <td>    1.235</td>\n",
       "</tr>\n",
       "<tr>\n",
       "  <th>parental_level_of_education_some high school</th>   <td>   -0.8389</td> <td>    0.225</td> <td>   -3.733</td> <td> 0.000</td> <td>   -1.279</td> <td>   -0.398</td>\n",
       "</tr>\n",
       "<tr>\n",
       "  <th>lunch_free/reduced</th>                             <td>   -1.0821</td> <td>    0.154</td> <td>   -7.039</td> <td> 0.000</td> <td>   -1.383</td> <td>   -0.781</td>\n",
       "</tr>\n",
       "<tr>\n",
       "  <th>test_preparation_course_completed</th>              <td>    1.3340</td> <td>    0.158</td> <td>    8.442</td> <td> 0.000</td> <td>    1.024</td> <td>    1.644</td>\n",
       "</tr>\n",
       "</table>"
      ],
      "text/plain": [
       "<class 'statsmodels.iolib.summary.Summary'>\n",
       "\"\"\"\n",
       "                           Logit Regression Results                           \n",
       "==============================================================================\n",
       "Dep. Variable:          writing_score   No. Observations:                 1000\n",
       "Model:                          Logit   Df Residuals:                      987\n",
       "Method:                           MLE   Df Model:                           12\n",
       "Date:                Wed, 02 Nov 2022   Pseudo R-squ.:                  0.1696\n",
       "Time:                        21:49:44   Log-Likelihood:                -575.44\n",
       "converged:                       True   LL-Null:                       -692.95\n",
       "Covariance Type:            nonrobust   LLR p-value:                 1.810e-43\n",
       "==================================================================================================================\n",
       "                                                     coef    std err          z      P>|z|      [0.025      0.975]\n",
       "------------------------------------------------------------------------------------------------------------------\n",
       "const                                             -0.7273      0.210     -3.464      0.001      -1.139      -0.316\n",
       "gender_female                                      0.9875      0.147      6.715      0.000       0.699       1.276\n",
       "race/ethnicity_group A                             0.0541      0.283      0.191      0.849      -0.501       0.610\n",
       "race/ethnicity_group B                             0.0340      0.202      0.168      0.867      -0.362       0.430\n",
       "race/ethnicity_group D                             0.8610      0.190      4.525      0.000       0.488       1.234\n",
       "race/ethnicity_group E                             0.7859      0.235      3.340      0.001       0.325       1.247\n",
       "parental_level_of_education_associate's degree     0.2432      0.217      1.121      0.262      -0.182       0.668\n",
       "parental_level_of_education_bachelor's degree      0.5584      0.268      2.081      0.037       0.033       1.084\n",
       "parental_level_of_education_high school           -0.4767      0.218     -2.187      0.029      -0.904      -0.049\n",
       "parental_level_of_education_master's degree        0.6079      0.320      1.900      0.057      -0.019       1.235\n",
       "parental_level_of_education_some high school      -0.8389      0.225     -3.733      0.000      -1.279      -0.398\n",
       "lunch_free/reduced                                -1.0821      0.154     -7.039      0.000      -1.383      -0.781\n",
       "test_preparation_course_completed                  1.3340      0.158      8.442      0.000       1.024       1.644\n",
       "==================================================================================================================\n",
       "\"\"\""
      ]
     },
     "execution_count": 35,
     "metadata": {},
     "output_type": "execute_result"
    }
   ],
   "source": [
    "# Fitting logistic regression in predicting above average student performance in writing\n",
    "logit_writing = fit_logit(\"writing_score\")\n",
    "logit_writing.summary()"
   ]
  },
  {
   "cell_type": "code",
   "execution_count": null,
   "metadata": {},
   "outputs": [],
   "source": []
  }
 ],
 "metadata": {
  "kernelspec": {
   "display_name": "Python 3 (ipykernel)",
   "language": "python",
   "name": "python3"
  },
  "language_info": {
   "codemirror_mode": {
    "name": "ipython",
    "version": 3
   },
   "file_extension": ".py",
   "mimetype": "text/x-python",
   "name": "python",
   "nbconvert_exporter": "python",
   "pygments_lexer": "ipython3",
   "version": "3.8.8 (default, Apr 13 2021, 12:59:45) \n[Clang 10.0.0 ]"
  },
  "vscode": {
   "interpreter": {
    "hash": "084df47ddb126ee1aecc9788ff398586130aad111e026f3bf9655f32f92903d0"
   }
  }
 },
 "nbformat": 4,
 "nbformat_minor": 2
}
